{
 "cells": [
  {
   "cell_type": "markdown",
   "metadata": {},
   "source": [
    "# Milestone 1 Playground -- Ricky's Notebook\n",
    "---\n",
    "Cell for importing packages:"
   ]
  },
  {
   "cell_type": "code",
   "execution_count": 1,
   "metadata": {},
   "outputs": [
    {
     "name": "stdout",
     "output_type": "stream",
     "text": [
      "Collecting pandas\n",
      "  Using cached pandas-1.0.1-cp38-cp38-macosx_10_9_x86_64.whl (9.9 MB)\n",
      "Requirement already satisfied: python-dateutil>=2.6.1 in /Users/rickynoll/Desktop/School/SP2020/machine-learning/stat-venv/lib/python3.8/site-packages (from pandas) (2.8.1)\n",
      "Collecting pytz>=2017.2\n",
      "  Using cached pytz-2019.3-py2.py3-none-any.whl (509 kB)\n",
      "Requirement already satisfied: numpy>=1.13.3 in /Users/rickynoll/Desktop/School/SP2020/machine-learning/stat-venv/lib/python3.8/site-packages (from pandas) (1.18.1)\n",
      "Requirement already satisfied: six>=1.5 in /Users/rickynoll/Desktop/School/SP2020/machine-learning/stat-venv/lib/python3.8/site-packages (from python-dateutil>=2.6.1->pandas) (1.14.0)\n",
      "Installing collected packages: pytz, pandas\n",
      "Successfully installed pandas-1.0.1 pytz-2019.3\n"
     ]
    }
   ],
   "source": [
    "# Install a pip package in the current Jupyter kernel\n",
    "import sys\n",
    "# !{sys.executable} -m pip install pandas"
   ]
  },
  {
   "cell_type": "markdown",
   "metadata": {},
   "source": [
    "Imports cell:"
   ]
  },
  {
   "cell_type": "code",
   "execution_count": 1,
   "metadata": {},
   "outputs": [],
   "source": [
    "# 441975, l.teixeira@wustl.edu, Teixeira, Lucas\n",
    "# 443896, rickynoll@wustl.edu, Noll, Ricky\n",
    "# XXXXXX, XXXXX@wustl.edu, Kowsari, Daria\n",
    "\n",
    "# This Python 3 environment comes with many helpful analytics libraries installed\n",
    "# It is defined by the kaggle/python docker image: https://github.com/kaggle/docker-python\n",
    "# For example, here's several helpful packages to load in \n",
    "\n",
    "import os\n",
    "import numpy as np # linear algebra\n",
    "import pandas as pd # data processing, CSV file I/O (e.g. pd.read_csv)\n",
    "from sklearn import linear_model\n",
    "import plotly.graph_objects as go\n",
    "from sklearn.model_selection import train_test_split, GridSearchCV\n",
    "from sklearn.metrics import mean_squared_error, mean_absolute_error, r2_score"
   ]
  },
  {
   "cell_type": "markdown",
   "metadata": {},
   "source": [
    "---"
   ]
  },
  {
   "cell_type": "code",
   "execution_count": 2,
   "metadata": {},
   "outputs": [
    {
     "name": "stdout",
     "output_type": "stream",
     "text": [
      "X_train:  (4983, 11)\n",
      "X_val  :  (2455, 11)\n",
      "y_train:  (4983, 1)\n",
      "y_val  :  (2455, 1)\n",
      "test   :  (11157, 11)\n"
     ]
    }
   ],
   "source": [
    "# Read Input files from current directory\n",
    "train = pd.read_csv(os.path.join(os.getcwd(),'train.csv'))\n",
    "X = train.loc[:, 'ID':'Soil_Type']\n",
    "y = train.loc[:, 'Horizontal_Distance_To_Fire_Points'::]\n",
    "test = pd.read_csv(os.path.join(os.getcwd(),'test.csv'))\n",
    "\n",
    "X_train, X_val, y_train, y_val = train_test_split(X, y, test_size=0.33, random_state=42)\n",
    "\n",
    "print(\"X_train: \", X_train.shape)\n",
    "print(\"X_val  : \", X_val.shape)\n",
    "print(\"y_train: \", y_train.shape)\n",
    "print(\"y_val  : \", y_val.shape)\n",
    "print(\"test   : \", test.shape)\n",
    "# Any results you write to the current directory are saved as output."
   ]
  },
  {
   "cell_type": "code",
   "execution_count": 3,
   "metadata": {},
   "outputs": [
    {
     "data": {
      "text/html": [
       "<div>\n",
       "<style scoped>\n",
       "    .dataframe tbody tr th:only-of-type {\n",
       "        vertical-align: middle;\n",
       "    }\n",
       "\n",
       "    .dataframe tbody tr th {\n",
       "        vertical-align: top;\n",
       "    }\n",
       "\n",
       "    .dataframe thead th {\n",
       "        text-align: right;\n",
       "    }\n",
       "</style>\n",
       "<table border=\"1\" class=\"dataframe\">\n",
       "  <thead>\n",
       "    <tr style=\"text-align: right;\">\n",
       "      <th></th>\n",
       "      <th>Elevation</th>\n",
       "      <th>Aspect</th>\n",
       "      <th>Slope</th>\n",
       "      <th>Horizontal_Distance_To_Hydrology</th>\n",
       "      <th>Vertical_Distance_To_Hydrology</th>\n",
       "      <th>Horizontal_Distance_To_Roadways</th>\n",
       "      <th>Hillshade_9am</th>\n",
       "      <th>Hillshade_Noon</th>\n",
       "      <th>Hillshade_3pm</th>\n",
       "      <th>Soil_Type</th>\n",
       "    </tr>\n",
       "  </thead>\n",
       "  <tbody>\n",
       "    <tr>\n",
       "      <th>2492</th>\n",
       "      <td>3318</td>\n",
       "      <td>31</td>\n",
       "      <td>12</td>\n",
       "      <td>90</td>\n",
       "      <td>5</td>\n",
       "      <td>2101</td>\n",
       "      <td>216</td>\n",
       "      <td>213</td>\n",
       "      <td>130</td>\n",
       "      <td>8771</td>\n",
       "    </tr>\n",
       "    <tr>\n",
       "      <th>1654</th>\n",
       "      <td>3268</td>\n",
       "      <td>58</td>\n",
       "      <td>9</td>\n",
       "      <td>228</td>\n",
       "      <td>29</td>\n",
       "      <td>934</td>\n",
       "      <td>227</td>\n",
       "      <td>222</td>\n",
       "      <td>129</td>\n",
       "      <td>7756</td>\n",
       "    </tr>\n",
       "    <tr>\n",
       "      <th>6452</th>\n",
       "      <td>3161</td>\n",
       "      <td>120</td>\n",
       "      <td>9</td>\n",
       "      <td>426</td>\n",
       "      <td>32</td>\n",
       "      <td>488</td>\n",
       "      <td>236</td>\n",
       "      <td>233</td>\n",
       "      <td>128</td>\n",
       "      <td>7202</td>\n",
       "    </tr>\n",
       "    <tr>\n",
       "      <th>6816</th>\n",
       "      <td>3167</td>\n",
       "      <td>328</td>\n",
       "      <td>4</td>\n",
       "      <td>60</td>\n",
       "      <td>3</td>\n",
       "      <td>566</td>\n",
       "      <td>209</td>\n",
       "      <td>234</td>\n",
       "      <td>164</td>\n",
       "      <td>7202</td>\n",
       "    </tr>\n",
       "    <tr>\n",
       "      <th>2323</th>\n",
       "      <td>3382</td>\n",
       "      <td>273</td>\n",
       "      <td>28</td>\n",
       "      <td>547</td>\n",
       "      <td>176</td>\n",
       "      <td>700</td>\n",
       "      <td>135</td>\n",
       "      <td>234</td>\n",
       "      <td>232</td>\n",
       "      <td>7757</td>\n",
       "    </tr>\n",
       "    <tr>\n",
       "      <th>...</th>\n",
       "      <td>...</td>\n",
       "      <td>...</td>\n",
       "      <td>...</td>\n",
       "      <td>...</td>\n",
       "      <td>...</td>\n",
       "      <td>...</td>\n",
       "      <td>...</td>\n",
       "      <td>...</td>\n",
       "      <td>...</td>\n",
       "      <td>...</td>\n",
       "    </tr>\n",
       "    <tr>\n",
       "      <th>5191</th>\n",
       "      <td>3371</td>\n",
       "      <td>36</td>\n",
       "      <td>9</td>\n",
       "      <td>190</td>\n",
       "      <td>39</td>\n",
       "      <td>1550</td>\n",
       "      <td>220</td>\n",
       "      <td>221</td>\n",
       "      <td>136</td>\n",
       "      <td>8776</td>\n",
       "    </tr>\n",
       "    <tr>\n",
       "      <th>5226</th>\n",
       "      <td>3463</td>\n",
       "      <td>141</td>\n",
       "      <td>16</td>\n",
       "      <td>120</td>\n",
       "      <td>14</td>\n",
       "      <td>2081</td>\n",
       "      <td>242</td>\n",
       "      <td>233</td>\n",
       "      <td>115</td>\n",
       "      <td>8772</td>\n",
       "    </tr>\n",
       "    <tr>\n",
       "      <th>5390</th>\n",
       "      <td>3301</td>\n",
       "      <td>291</td>\n",
       "      <td>14</td>\n",
       "      <td>703</td>\n",
       "      <td>102</td>\n",
       "      <td>767</td>\n",
       "      <td>181</td>\n",
       "      <td>237</td>\n",
       "      <td>196</td>\n",
       "      <td>7201</td>\n",
       "    </tr>\n",
       "    <tr>\n",
       "      <th>860</th>\n",
       "      <td>3184</td>\n",
       "      <td>344</td>\n",
       "      <td>12</td>\n",
       "      <td>182</td>\n",
       "      <td>6</td>\n",
       "      <td>1103</td>\n",
       "      <td>195</td>\n",
       "      <td>220</td>\n",
       "      <td>164</td>\n",
       "      <td>7700</td>\n",
       "    </tr>\n",
       "    <tr>\n",
       "      <th>7270</th>\n",
       "      <td>3221</td>\n",
       "      <td>329</td>\n",
       "      <td>11</td>\n",
       "      <td>134</td>\n",
       "      <td>3</td>\n",
       "      <td>484</td>\n",
       "      <td>194</td>\n",
       "      <td>227</td>\n",
       "      <td>173</td>\n",
       "      <td>7700</td>\n",
       "    </tr>\n",
       "  </tbody>\n",
       "</table>\n",
       "<p>4983 rows × 10 columns</p>\n",
       "</div>"
      ],
      "text/plain": [
       "      Elevation  Aspect  Slope  Horizontal_Distance_To_Hydrology  \\\n",
       "2492       3318      31     12                                90   \n",
       "1654       3268      58      9                               228   \n",
       "6452       3161     120      9                               426   \n",
       "6816       3167     328      4                                60   \n",
       "2323       3382     273     28                               547   \n",
       "...         ...     ...    ...                               ...   \n",
       "5191       3371      36      9                               190   \n",
       "5226       3463     141     16                               120   \n",
       "5390       3301     291     14                               703   \n",
       "860        3184     344     12                               182   \n",
       "7270       3221     329     11                               134   \n",
       "\n",
       "      Vertical_Distance_To_Hydrology  Horizontal_Distance_To_Roadways  \\\n",
       "2492                               5                             2101   \n",
       "1654                              29                              934   \n",
       "6452                              32                              488   \n",
       "6816                               3                              566   \n",
       "2323                             176                              700   \n",
       "...                              ...                              ...   \n",
       "5191                              39                             1550   \n",
       "5226                              14                             2081   \n",
       "5390                             102                              767   \n",
       "860                                6                             1103   \n",
       "7270                               3                              484   \n",
       "\n",
       "      Hillshade_9am  Hillshade_Noon  Hillshade_3pm  Soil_Type  \n",
       "2492            216             213            130       8771  \n",
       "1654            227             222            129       7756  \n",
       "6452            236             233            128       7202  \n",
       "6816            209             234            164       7202  \n",
       "2323            135             234            232       7757  \n",
       "...             ...             ...            ...        ...  \n",
       "5191            220             221            136       8776  \n",
       "5226            242             233            115       8772  \n",
       "5390            181             237            196       7201  \n",
       "860             195             220            164       7700  \n",
       "7270            194             227            173       7700  \n",
       "\n",
       "[4983 rows x 10 columns]"
      ]
     },
     "execution_count": 3,
     "metadata": {},
     "output_type": "execute_result"
    }
   ],
   "source": [
    "X_train[X_train.columns[1:]]"
   ]
  },
  {
   "cell_type": "code",
   "execution_count": 4,
   "metadata": {},
   "outputs": [
    {
     "data": {
      "text/plain": [
       "2492    2112\n",
       "1654     849\n",
       "6452    5706\n",
       "6816    1295\n",
       "2323     942\n",
       "        ... \n",
       "5191    1959\n",
       "5226    3087\n",
       "5390    1024\n",
       "860      750\n",
       "7270    1065\n",
       "Name: Horizontal_Distance_To_Fire_Points, Length: 4983, dtype: int64"
      ]
     },
     "execution_count": 4,
     "metadata": {},
     "output_type": "execute_result"
    }
   ],
   "source": [
    "y_train.squeeze()"
   ]
  },
  {
   "cell_type": "markdown",
   "metadata": {},
   "source": [
    "---\n",
    "## Linear Regression\n",
    "Now that we have Train the simplest model possible.\n",
    "\n",
    "__Note:__ You have to cut off the first column because the `id's` are not a real feature."
   ]
  },
  {
   "cell_type": "code",
   "execution_count": 5,
   "metadata": {},
   "outputs": [
    {
     "data": {
      "text/plain": [
       "LinearRegression(copy_X=True, fit_intercept=True, n_jobs=None, normalize=False)"
      ]
     },
     "execution_count": 5,
     "metadata": {},
     "output_type": "execute_result"
    }
   ],
   "source": [
    "model = linear_model.LinearRegression()\n",
    "model.fit(X_train[X_train.columns[1:]], y_train.squeeze())"
   ]
  },
  {
   "cell_type": "code",
   "execution_count": 6,
   "metadata": {},
   "outputs": [
    {
     "name": "stdout",
     "output_type": "stream",
     "text": [
      "model.coef_: [  1.43494619  -3.59996913  79.0550337    0.1140299   -5.95011658\n",
      "   0.37881371  40.46475194 -15.87906337  25.82618215  -0.09271265]\n",
      "\n",
      "model.intercept_: -11032.046887026792\n",
      "\n",
      "--- LinearReg Stats ---\n",
      "MSE : 1221421.671899665\n",
      "RMSE: 1105.1794749721264\n",
      "MAE : 855.36387287251\n",
      "R^2  : 0.340525252981012\n"
     ]
    }
   ],
   "source": [
    "print(f\"model.coef_: {model.coef_}\\n\")\n",
    "print(f\"model.intercept_: {model.intercept_}\\n\")\n",
    "\n",
    "y_pred = model.predict(X_val[X_val.columns[1:]])\n",
    "\n",
    "print(\"--- LinearReg Stats ---\")\n",
    "mse = mean_squared_error(y_val, y_pred)\n",
    "mae = mean_absolute_error(y_val, y_pred)\n",
    "rmse = np.sqrt(mse)\n",
    "r2 = r2_score(y_val, y_pred)\n",
    "\n",
    "print(f\"MSE : {mse}\")\n",
    "print(f\"RMSE: {rmse}\")\n",
    "print(f\"MAE : {mae}\")\n",
    "print(f\"R^2  : {r2}\")"
   ]
  },
  {
   "cell_type": "markdown",
   "metadata": {},
   "source": [
    "Retrain with __ALL__ data. Write predictions out to file:"
   ]
  },
  {
   "cell_type": "code",
   "execution_count": 7,
   "metadata": {},
   "outputs": [
    {
     "data": {
      "text/html": [
       "<div>\n",
       "<style scoped>\n",
       "    .dataframe tbody tr th:only-of-type {\n",
       "        vertical-align: middle;\n",
       "    }\n",
       "\n",
       "    .dataframe tbody tr th {\n",
       "        vertical-align: top;\n",
       "    }\n",
       "\n",
       "    .dataframe thead th {\n",
       "        text-align: right;\n",
       "    }\n",
       "</style>\n",
       "<table border=\"1\" class=\"dataframe\">\n",
       "  <thead>\n",
       "    <tr style=\"text-align: right;\">\n",
       "      <th></th>\n",
       "      <th>ID</th>\n",
       "      <th>Horizontal_Distance_To_Fire_Points</th>\n",
       "    </tr>\n",
       "  </thead>\n",
       "  <tbody>\n",
       "    <tr>\n",
       "      <th>0</th>\n",
       "      <td>49513387</td>\n",
       "      <td>3597.645929</td>\n",
       "    </tr>\n",
       "    <tr>\n",
       "      <th>1</th>\n",
       "      <td>154482561</td>\n",
       "      <td>3900.906467</td>\n",
       "    </tr>\n",
       "    <tr>\n",
       "      <th>2</th>\n",
       "      <td>170918549</td>\n",
       "      <td>3224.845915</td>\n",
       "    </tr>\n",
       "    <tr>\n",
       "      <th>3</th>\n",
       "      <td>483460773</td>\n",
       "      <td>1090.325349</td>\n",
       "    </tr>\n",
       "    <tr>\n",
       "      <th>4</th>\n",
       "      <td>3421968690</td>\n",
       "      <td>1153.521955</td>\n",
       "    </tr>\n",
       "    <tr>\n",
       "      <th>...</th>\n",
       "      <td>...</td>\n",
       "      <td>...</td>\n",
       "    </tr>\n",
       "    <tr>\n",
       "      <th>11152</th>\n",
       "      <td>9996758076316</td>\n",
       "      <td>2955.786024</td>\n",
       "    </tr>\n",
       "    <tr>\n",
       "      <th>11153</th>\n",
       "      <td>9997790496155</td>\n",
       "      <td>1765.567301</td>\n",
       "    </tr>\n",
       "    <tr>\n",
       "      <th>11154</th>\n",
       "      <td>9998021658144</td>\n",
       "      <td>2266.622129</td>\n",
       "    </tr>\n",
       "    <tr>\n",
       "      <th>11155</th>\n",
       "      <td>9998459291425</td>\n",
       "      <td>1001.881199</td>\n",
       "    </tr>\n",
       "    <tr>\n",
       "      <th>11156</th>\n",
       "      <td>9999743352792</td>\n",
       "      <td>1827.088396</td>\n",
       "    </tr>\n",
       "  </tbody>\n",
       "</table>\n",
       "<p>11157 rows × 2 columns</p>\n",
       "</div>"
      ],
      "text/plain": [
       "                  ID  Horizontal_Distance_To_Fire_Points\n",
       "0           49513387                         3597.645929\n",
       "1          154482561                         3900.906467\n",
       "2          170918549                         3224.845915\n",
       "3          483460773                         1090.325349\n",
       "4         3421968690                         1153.521955\n",
       "...              ...                                 ...\n",
       "11152  9996758076316                         2955.786024\n",
       "11153  9997790496155                         1765.567301\n",
       "11154  9998021658144                         2266.622129\n",
       "11155  9998459291425                         1001.881199\n",
       "11156  9999743352792                         1827.088396\n",
       "\n",
       "[11157 rows x 2 columns]"
      ]
     },
     "execution_count": 7,
     "metadata": {},
     "output_type": "execute_result"
    }
   ],
   "source": [
    "model.fit(X[X.columns[1:]], y.squeeze())\n",
    "test_preds = model.predict(test[test.columns[1:]])\n",
    "submission_output = pd.DataFrame(data={'ID': test.ID, 'Horizontal_Distance_To_Fire_Points': test_preds})\n",
    "submission_output.to_csv(os.path.join(os.getcwd(),'result_linreg_ricky.csv'), index=False)\n",
    "submission_output"
   ]
  },
  {
   "cell_type": "markdown",
   "metadata": {},
   "source": [
    "---\n",
    "## LinearSVR"
   ]
  },
  {
   "cell_type": "code",
   "execution_count": 11,
   "metadata": {},
   "outputs": [
    {
     "data": {
      "text/plain": [
       "LinearSVR(C=20.0, dual=False, epsilon=1.0, fit_intercept=True,\n",
       "          intercept_scaling=1.0, loss='squared_epsilon_insensitive',\n",
       "          max_iter=1000, random_state=None, tol=0.0001, verbose=0)"
      ]
     },
     "execution_count": 11,
     "metadata": {},
     "output_type": "execute_result"
    }
   ],
   "source": [
    "from sklearn.svm import LinearSVR\n",
    "# from sklearn.datasets import make_regression\n",
    "# X, y = make_regression(n_features=4, random_state=0)\n",
    "\n",
    "tuned_param = {'C':[0.1, 1., 5., 10., 20., 50.], 'epsilon':[0, 0.1, 1., 5.]}\n",
    "svc = LinearSVR(dual=False, loss='squared_epsilon_insensitive')\n",
    "grid_search = GridSearchCV(svc, tuned_param, scoring='r2')\n",
    "grid_search.fit(X_train[X_train.columns[1:]], y_train.squeeze())\n",
    "\n",
    "regr = grid_search.best_estimator_\n",
    "regr.fit(X_train[X_train.columns[1:]], y_train.squeeze())"
   ]
  },
  {
   "cell_type": "code",
   "execution_count": 12,
   "metadata": {},
   "outputs": [
    {
     "name": "stdout",
     "output_type": "stream",
     "text": [
      "regr.coef_: [  0.61093045  -3.74273161  37.24441493   0.22565299  -5.27749764\n",
      "   0.46660108  -6.9319      17.78607579 -12.16210886  -0.08428745]\n",
      "\n",
      "regr.intercept_: [-0.05796345]\n",
      "\n",
      "--- LinearSVR Stats ---\n",
      "MSE : 1231154.3044311525\n",
      "RMSE: 1109.5739292319158\n",
      "MAE : 865.9004969375745\n",
      "R^2 : 0.3352703721121071\n"
     ]
    }
   ],
   "source": [
    "print(f\"regr.coef_: {regr.coef_}\\n\")\n",
    "print(f\"regr.intercept_: {regr.intercept_}\\n\")\n",
    "\n",
    "y_pred = regr.predict(X_val[X_val.columns[1:]])\n",
    "\n",
    "print(\"--- LinearSVR Stats ---\")\n",
    "mse = mean_squared_error(y_val, y_pred)\n",
    "mae = mean_absolute_error(y_val, y_pred)\n",
    "rmse = np.sqrt(mse)\n",
    "r2 = r2_score(y_val, y_pred)\n",
    "\n",
    "print(f\"MSE : {mse}\")\n",
    "print(f\"RMSE: {rmse}\")\n",
    "print(f\"MAE : {mae}\")\n",
    "print(f\"R^2 : {r2}\")"
   ]
  },
  {
   "cell_type": "markdown",
   "metadata": {},
   "source": [
    "Retrain with __ALL__ data. Write predictions out to file:"
   ]
  },
  {
   "cell_type": "code",
   "execution_count": 13,
   "metadata": {},
   "outputs": [
    {
     "data": {
      "text/html": [
       "<div>\n",
       "<style scoped>\n",
       "    .dataframe tbody tr th:only-of-type {\n",
       "        vertical-align: middle;\n",
       "    }\n",
       "\n",
       "    .dataframe tbody tr th {\n",
       "        vertical-align: top;\n",
       "    }\n",
       "\n",
       "    .dataframe thead th {\n",
       "        text-align: right;\n",
       "    }\n",
       "</style>\n",
       "<table border=\"1\" class=\"dataframe\">\n",
       "  <thead>\n",
       "    <tr style=\"text-align: right;\">\n",
       "      <th></th>\n",
       "      <th>ID</th>\n",
       "      <th>Horizontal_Distance_To_Fire_Points</th>\n",
       "    </tr>\n",
       "  </thead>\n",
       "  <tbody>\n",
       "    <tr>\n",
       "      <th>0</th>\n",
       "      <td>49513387</td>\n",
       "      <td>3569.331001</td>\n",
       "    </tr>\n",
       "    <tr>\n",
       "      <th>1</th>\n",
       "      <td>154482561</td>\n",
       "      <td>3809.234219</td>\n",
       "    </tr>\n",
       "    <tr>\n",
       "      <th>2</th>\n",
       "      <td>170918549</td>\n",
       "      <td>2832.750566</td>\n",
       "    </tr>\n",
       "    <tr>\n",
       "      <th>3</th>\n",
       "      <td>483460773</td>\n",
       "      <td>1057.524473</td>\n",
       "    </tr>\n",
       "    <tr>\n",
       "      <th>4</th>\n",
       "      <td>3421968690</td>\n",
       "      <td>1408.485970</td>\n",
       "    </tr>\n",
       "    <tr>\n",
       "      <th>...</th>\n",
       "      <td>...</td>\n",
       "      <td>...</td>\n",
       "    </tr>\n",
       "    <tr>\n",
       "      <th>11152</th>\n",
       "      <td>9996758076316</td>\n",
       "      <td>2513.809786</td>\n",
       "    </tr>\n",
       "    <tr>\n",
       "      <th>11153</th>\n",
       "      <td>9997790496155</td>\n",
       "      <td>1635.563281</td>\n",
       "    </tr>\n",
       "    <tr>\n",
       "      <th>11154</th>\n",
       "      <td>9998021658144</td>\n",
       "      <td>2429.141097</td>\n",
       "    </tr>\n",
       "    <tr>\n",
       "      <th>11155</th>\n",
       "      <td>9998459291425</td>\n",
       "      <td>1100.294008</td>\n",
       "    </tr>\n",
       "    <tr>\n",
       "      <th>11156</th>\n",
       "      <td>9999743352792</td>\n",
       "      <td>1818.592535</td>\n",
       "    </tr>\n",
       "  </tbody>\n",
       "</table>\n",
       "<p>11157 rows × 2 columns</p>\n",
       "</div>"
      ],
      "text/plain": [
       "                  ID  Horizontal_Distance_To_Fire_Points\n",
       "0           49513387                         3569.331001\n",
       "1          154482561                         3809.234219\n",
       "2          170918549                         2832.750566\n",
       "3          483460773                         1057.524473\n",
       "4         3421968690                         1408.485970\n",
       "...              ...                                 ...\n",
       "11152  9996758076316                         2513.809786\n",
       "11153  9997790496155                         1635.563281\n",
       "11154  9998021658144                         2429.141097\n",
       "11155  9998459291425                         1100.294008\n",
       "11156  9999743352792                         1818.592535\n",
       "\n",
       "[11157 rows x 2 columns]"
      ]
     },
     "execution_count": 13,
     "metadata": {},
     "output_type": "execute_result"
    }
   ],
   "source": [
    "regr.fit(X[X.columns[1:]], y.squeeze())\n",
    "test_preds = regr.predict(test[test.columns[1:]])\n",
    "submission_output = pd.DataFrame(data={'ID': test.ID, 'Horizontal_Distance_To_Fire_Points': test_preds})\n",
    "submission_output.to_csv(os.path.join(os.getcwd(),'result_svr_ricky.csv'), index=False)\n",
    "submission_output"
   ]
  },
  {
   "cell_type": "markdown",
   "metadata": {},
   "source": [
    "---\n",
    "## SGDRegressor"
   ]
  },
  {
   "cell_type": "code",
   "execution_count": 10,
   "metadata": {},
   "outputs": [
    {
     "data": {
      "text/plain": [
       "SGDRegressor(alpha=0.0001, average=False, early_stopping=False, epsilon=0.1,\n",
       "             eta0=0.01, fit_intercept=True, l1_ratio=0.15,\n",
       "             learning_rate='invscaling', loss='squared_loss', max_iter=1000,\n",
       "             n_iter_no_change=5, penalty='l2', power_t=0.25, random_state=None,\n",
       "             shuffle=True, tol=0.001, validation_fraction=0.1, verbose=0,\n",
       "             warm_start=False)"
      ]
     },
     "execution_count": 10,
     "metadata": {},
     "output_type": "execute_result"
    }
   ],
   "source": [
    "sgd_regr = linear_model.SGDRegressor(max_iter=1000, tol=1e-3)\n",
    "sgd_regr.fit(X_train[X_train.columns[1:]], y_train.squeeze())"
   ]
  },
  {
   "cell_type": "code",
   "execution_count": 11,
   "metadata": {},
   "outputs": [
    {
     "name": "stdout",
     "output_type": "stream",
     "text": [
      "regr.coef_: [-1.68717326e+12  1.16398144e+12 -4.19012002e+12 -8.82560641e+11\n",
      " -5.07427188e+11 -1.02120955e+12  3.64339449e+12  7.91068526e+10\n",
      " -1.32852566e+11 -1.09056734e+12]\n",
      "\n",
      "regr.intercept_: [-7.18763167e+08]\n",
      "\n",
      "--- SGDRegressor Stats ---\n",
      "MSE : 2.003060121343028e+32\n",
      "RMSE: 1.4152950651164682e+16\n",
      "MAE : 1.4101398334034398e+16\n",
      "R^2  : -1.0815000234374661e+26\n"
     ]
    }
   ],
   "source": [
    "print(f\"regr.coef_: {sgd_regr.coef_}\\n\")\n",
    "print(f\"regr.intercept_: {sgd_regr.intercept_}\\n\")\n",
    "\n",
    "y_pred = sgd_regr.predict(X_val[X_val.columns[1:]])\n",
    "\n",
    "print(\"--- SGDRegressor Stats ---\")\n",
    "mse = mean_squared_error(y_val, y_pred)\n",
    "mae = mean_absolute_error(y_val, y_pred)\n",
    "rmse = np.sqrt(mse)\n",
    "r2 = r2_score(y_val, y_pred)\n",
    "\n",
    "print(f\"MSE : {mse}\")\n",
    "print(f\"RMSE: {rmse}\")\n",
    "print(f\"MAE : {mae}\")\n",
    "print(f\"R^2  : {r2}\")"
   ]
  },
  {
   "cell_type": "code",
   "execution_count": null,
   "metadata": {},
   "outputs": [],
   "source": []
  },
  {
   "cell_type": "code",
   "execution_count": null,
   "metadata": {},
   "outputs": [],
   "source": []
  }
 ],
 "metadata": {
  "kernelspec": {
   "display_name": "Python 3",
   "language": "python",
   "name": "python3"
  },
  "language_info": {
   "codemirror_mode": {
    "name": "ipython",
    "version": 3
   },
   "file_extension": ".py",
   "mimetype": "text/x-python",
   "name": "python",
   "nbconvert_exporter": "python",
   "pygments_lexer": "ipython3",
   "version": "3.8.1"
  }
 },
 "nbformat": 4,
 "nbformat_minor": 4
}

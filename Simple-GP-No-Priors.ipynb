{
 "cells": [
  {
   "cell_type": "markdown",
   "metadata": {},
   "source": [
    "# GP Regression on Application Project Data\n",
    "\n",
    "---\n",
    "Cell for importing packages:"
   ]
  },
  {
   "cell_type": "code",
   "execution_count": 2,
   "metadata": {},
   "outputs": [
    {
     "name": "stdout",
     "output_type": "stream",
     "text": [
      "Collecting gpytorch\n",
      "  Downloading gpytorch-1.0.1.tar.gz (229 kB)\n",
      "\u001b[K     |████████████████████████████████| 229 kB 685 kB/s eta 0:00:01\n",
      "\u001b[?25hInstalling collected packages: gpytorch\n",
      "    Running setup.py install for gpytorch ... \u001b[?25ldone\n",
      "\u001b[?25hSuccessfully installed gpytorch-1.0.1\n"
     ]
    }
   ],
   "source": [
    "# Install a pip package in the current Jupyter kernel\n",
    "import sys\n",
    "# !{sys.executable} -m pip install gpytorch"
   ]
  },
  {
   "cell_type": "markdown",
   "metadata": {},
   "source": [
    "---\n",
    "Imports cell:"
   ]
  },
  {
   "cell_type": "code",
   "execution_count": 6,
   "metadata": {},
   "outputs": [],
   "source": [
    "# 441975, l.teixeira@wustl.edu, Teixeira, Lucas\n",
    "# 443896, rickynoll@wustl.edu, Noll, Ricky\n",
    "# XXXXXX, XXXXX@wustl.edu, Kowsari, Daria\n",
    "\n",
    "# This Python 3 environment comes with many helpful analytics libraries installed\n",
    "# It is defined by the kaggle/python docker image: https://github.com/kaggle/docker-python\n",
    "# For example, here's several helpful packages to load in \n",
    "\n",
    "import os\n",
    "import numpy as np # linear algebra\n",
    "import pandas as pd # data processing, CSV file I/O (e.g. pd.read_csv)\n",
    "import plotly.graph_objects as go\n",
    "from sklearn.model_selection import train_test_split\n",
    "from sklearn.metrics import mean_squared_error, mean_absolute_error, r2_score"
   ]
  },
  {
   "cell_type": "markdown",
   "metadata": {},
   "source": [
    "---\n",
    "## Read Training Input File:"
   ]
  },
  {
   "cell_type": "code",
   "execution_count": 7,
   "metadata": {},
   "outputs": [
    {
     "name": "stdout",
     "output_type": "stream",
     "text": [
      "X_train:  (6694, 10)\n",
      "X_val  :  (744, 10)\n",
      "y_train:  (6694,)\n",
      "y_val  :  (744,)\n",
      "test_x :  (11157, 10)\n"
     ]
    }
   ],
   "source": [
    "# Read training input file\n",
    "train = pd.read_csv(os.path.join(os.getcwd(),'train.csv'))\n",
    "# Clip off labels from features and reset index\n",
    "train_x = train.loc[:, 'ID':'Soil_Type'].set_index('ID')\n",
    "# Extract labels into their own series\n",
    "train_y = train.loc[:, ['ID','Horizontal_Distance_To_Fire_Points']].set_index('ID').squeeze()\n",
    "\n",
    "# Do the same for the test file\n",
    "test = pd.read_csv(os.path.join(os.getcwd(),'test.csv'))\n",
    "test_x = test.set_index('ID')\n",
    "\n",
    "X_train, X_val, y_train, y_val = train_test_split(train_x, train_y, test_size=0.10, random_state=np.random.randint(1,654321))\n",
    "\n",
    "print(\"X_train: \", X_train.shape)\n",
    "print(\"X_val  : \", X_val.shape)\n",
    "print(\"y_train: \", y_train.shape)\n",
    "print(\"y_val  : \", y_val.shape)\n",
    "print(\"test_x : \", test_x.shape)"
   ]
  },
  {
   "cell_type": "markdown",
   "metadata": {},
   "source": [
    "Now we have a training set, a validation set that we can compute metrics and stuff on, and our real test set for which we don't have labels but that we'll make our actual predictions on."
   ]
  },
  {
   "cell_type": "code",
   "execution_count": 8,
   "metadata": {},
   "outputs": [
    {
     "data": {
      "text/html": [
       "<div>\n",
       "<style scoped>\n",
       "    .dataframe tbody tr th:only-of-type {\n",
       "        vertical-align: middle;\n",
       "    }\n",
       "\n",
       "    .dataframe tbody tr th {\n",
       "        vertical-align: top;\n",
       "    }\n",
       "\n",
       "    .dataframe thead th {\n",
       "        text-align: right;\n",
       "    }\n",
       "</style>\n",
       "<table border=\"1\" class=\"dataframe\">\n",
       "  <thead>\n",
       "    <tr style=\"text-align: right;\">\n",
       "      <th></th>\n",
       "      <th>Elevation</th>\n",
       "      <th>Aspect</th>\n",
       "      <th>Slope</th>\n",
       "      <th>Horizontal_Distance_To_Hydrology</th>\n",
       "      <th>Vertical_Distance_To_Hydrology</th>\n",
       "      <th>Horizontal_Distance_To_Roadways</th>\n",
       "      <th>Hillshade_9am</th>\n",
       "      <th>Hillshade_Noon</th>\n",
       "      <th>Hillshade_3pm</th>\n",
       "      <th>Soil_Type</th>\n",
       "    </tr>\n",
       "    <tr>\n",
       "      <th>ID</th>\n",
       "      <th></th>\n",
       "      <th></th>\n",
       "      <th></th>\n",
       "      <th></th>\n",
       "      <th></th>\n",
       "      <th></th>\n",
       "      <th></th>\n",
       "      <th></th>\n",
       "      <th></th>\n",
       "      <th></th>\n",
       "    </tr>\n",
       "  </thead>\n",
       "  <tbody>\n",
       "    <tr>\n",
       "      <th>7442324800189</th>\n",
       "      <td>3351</td>\n",
       "      <td>16</td>\n",
       "      <td>16</td>\n",
       "      <td>182</td>\n",
       "      <td>38</td>\n",
       "      <td>2132</td>\n",
       "      <td>204</td>\n",
       "      <td>205</td>\n",
       "      <td>134</td>\n",
       "      <td>8771</td>\n",
       "    </tr>\n",
       "    <tr>\n",
       "      <th>985993923065</th>\n",
       "      <td>3309</td>\n",
       "      <td>349</td>\n",
       "      <td>2</td>\n",
       "      <td>0</td>\n",
       "      <td>0</td>\n",
       "      <td>1250</td>\n",
       "      <td>215</td>\n",
       "      <td>235</td>\n",
       "      <td>158</td>\n",
       "      <td>8771</td>\n",
       "    </tr>\n",
       "    <tr>\n",
       "      <th>3572615222797</th>\n",
       "      <td>3169</td>\n",
       "      <td>345</td>\n",
       "      <td>3</td>\n",
       "      <td>30</td>\n",
       "      <td>0</td>\n",
       "      <td>638</td>\n",
       "      <td>214</td>\n",
       "      <td>235</td>\n",
       "      <td>159</td>\n",
       "      <td>7202</td>\n",
       "    </tr>\n",
       "    <tr>\n",
       "      <th>796578817163</th>\n",
       "      <td>3190</td>\n",
       "      <td>300</td>\n",
       "      <td>14</td>\n",
       "      <td>85</td>\n",
       "      <td>5</td>\n",
       "      <td>1195</td>\n",
       "      <td>179</td>\n",
       "      <td>233</td>\n",
       "      <td>194</td>\n",
       "      <td>8776</td>\n",
       "    </tr>\n",
       "    <tr>\n",
       "      <th>7185078174464</th>\n",
       "      <td>3406</td>\n",
       "      <td>100</td>\n",
       "      <td>20</td>\n",
       "      <td>633</td>\n",
       "      <td>211</td>\n",
       "      <td>1254</td>\n",
       "      <td>248</td>\n",
       "      <td>209</td>\n",
       "      <td>80</td>\n",
       "      <td>7755</td>\n",
       "    </tr>\n",
       "    <tr>\n",
       "      <th>8043930066694</th>\n",
       "      <td>3443</td>\n",
       "      <td>289</td>\n",
       "      <td>17</td>\n",
       "      <td>685</td>\n",
       "      <td>233</td>\n",
       "      <td>895</td>\n",
       "      <td>169</td>\n",
       "      <td>235</td>\n",
       "      <td>206</td>\n",
       "      <td>7757</td>\n",
       "    </tr>\n",
       "    <tr>\n",
       "      <th>8858564042712</th>\n",
       "      <td>3237</td>\n",
       "      <td>257</td>\n",
       "      <td>9</td>\n",
       "      <td>524</td>\n",
       "      <td>53</td>\n",
       "      <td>400</td>\n",
       "      <td>198</td>\n",
       "      <td>246</td>\n",
       "      <td>187</td>\n",
       "      <td>7202</td>\n",
       "    </tr>\n",
       "  </tbody>\n",
       "</table>\n",
       "</div>"
      ],
      "text/plain": [
       "               Elevation  Aspect  Slope  Horizontal_Distance_To_Hydrology  \\\n",
       "ID                                                                          \n",
       "7442324800189       3351      16     16                               182   \n",
       "985993923065        3309     349      2                                 0   \n",
       "3572615222797       3169     345      3                                30   \n",
       "796578817163        3190     300     14                                85   \n",
       "7185078174464       3406     100     20                               633   \n",
       "8043930066694       3443     289     17                               685   \n",
       "8858564042712       3237     257      9                               524   \n",
       "\n",
       "               Vertical_Distance_To_Hydrology  \\\n",
       "ID                                              \n",
       "7442324800189                              38   \n",
       "985993923065                                0   \n",
       "3572615222797                               0   \n",
       "796578817163                                5   \n",
       "7185078174464                             211   \n",
       "8043930066694                             233   \n",
       "8858564042712                              53   \n",
       "\n",
       "               Horizontal_Distance_To_Roadways  Hillshade_9am  Hillshade_Noon  \\\n",
       "ID                                                                              \n",
       "7442324800189                             2132            204             205   \n",
       "985993923065                              1250            215             235   \n",
       "3572615222797                              638            214             235   \n",
       "796578817163                              1195            179             233   \n",
       "7185078174464                             1254            248             209   \n",
       "8043930066694                              895            169             235   \n",
       "8858564042712                              400            198             246   \n",
       "\n",
       "               Hillshade_3pm  Soil_Type  \n",
       "ID                                       \n",
       "7442324800189            134       8771  \n",
       "985993923065             158       8771  \n",
       "3572615222797            159       7202  \n",
       "796578817163             194       8776  \n",
       "7185078174464             80       7755  \n",
       "8043930066694            206       7757  \n",
       "8858564042712            187       7202  "
      ]
     },
     "execution_count": 8,
     "metadata": {},
     "output_type": "execute_result"
    }
   ],
   "source": [
    "# See the first seven training examples\n",
    "X_train[:7]"
   ]
  },
  {
   "cell_type": "code",
   "execution_count": 9,
   "metadata": {},
   "outputs": [
    {
     "data": {
      "text/plain": [
       "ID\n",
       "7442324800189    2192\n",
       "985993923065     1500\n",
       "3572615222797    1179\n",
       "796578817163     1168\n",
       "7185078174464    1024\n",
       "                 ... \n",
       "8945371371996    1648\n",
       "506123677445     2018\n",
       "5178812755885    3245\n",
       "6797301770063     516\n",
       "2068919655931    4308\n",
       "Name: Horizontal_Distance_To_Fire_Points, Length: 6694, dtype: int64"
      ]
     },
     "execution_count": 9,
     "metadata": {},
     "output_type": "execute_result"
    }
   ],
   "source": [
    "# See labels of training samples\n",
    "y_train.squeeze()"
   ]
  },
  {
   "cell_type": "markdown",
   "metadata": {},
   "source": [
    "---\n",
    "## Let's Try GPyTorch:"
   ]
  },
  {
   "cell_type": "code",
   "execution_count": 10,
   "metadata": {},
   "outputs": [
    {
     "name": "stdout",
     "output_type": "stream",
     "text": [
      "The autoreload extension is already loaded. To reload it, use:\n",
      "  %reload_ext autoreload\n"
     ]
    }
   ],
   "source": [
    "import math\n",
    "import torch\n",
    "import gpytorch\n",
    "from matplotlib import pyplot as plt\n",
    "from IPython.display import Markdown, display\n",
    "\n",
    "def printmd(string):\n",
    "    display(Markdown(string))\n",
    "\n",
    "%matplotlib inline\n",
    "%load_ext autoreload\n",
    "%autoreload 2"
   ]
  },
  {
   "cell_type": "markdown",
   "metadata": {},
   "source": [
    "### Construct our first, basic GP model:\n",
    "\n",
    "First we need to turn our training data into `torch.Tensor`s"
   ]
  },
  {
   "cell_type": "code",
   "execution_count": 11,
   "metadata": {},
   "outputs": [
    {
     "data": {
      "text/plain": [
       "tensor([[3351,   16,   16,  ...,  205,  134, 8771],\n",
       "        [3309,  349,    2,  ...,  235,  158, 8771],\n",
       "        [3169,  345,    3,  ...,  235,  159, 7202],\n",
       "        ...,\n",
       "        [3443,   49,   10,  ...,  219,  128, 8703],\n",
       "        [3319,  107,   11,  ...,  226,  116, 7756],\n",
       "        [3320,  106,   23,  ...,  206,   70, 8776]])"
      ]
     },
     "execution_count": 11,
     "metadata": {},
     "output_type": "execute_result"
    }
   ],
   "source": [
    "train_x_tensor = torch.tensor(X_train.to_numpy())\n",
    "train_x_tensor"
   ]
  },
  {
   "cell_type": "code",
   "execution_count": 12,
   "metadata": {},
   "outputs": [
    {
     "data": {
      "text/plain": [
       "tensor([2192, 1500, 1179,  ..., 3245,  516, 4308])"
      ]
     },
     "execution_count": 12,
     "metadata": {},
     "output_type": "execute_result"
    }
   ],
   "source": [
    "train_y_tensor = torch.tensor(y_train.to_numpy())\n",
    "train_y_tensor"
   ]
  },
  {
   "cell_type": "markdown",
   "metadata": {},
   "source": [
    "Now we define a boilerplate class for Exact GP Inference with standard constant mean function and RBF kernel."
   ]
  },
  {
   "cell_type": "code",
   "execution_count": 13,
   "metadata": {},
   "outputs": [],
   "source": [
    "# We will use the simplest form of GP model, exact inference\n",
    "class ExactGPModel(gpytorch.models.ExactGP):\n",
    "    def __init__(self, train_x, train_y, likelihood):\n",
    "        super(ExactGPModel, self).__init__(train_x, train_y, likelihood)\n",
    "        self.mean_module = gpytorch.means.ConstantMean()\n",
    "        self.covar_module = gpytorch.kernels.ScaleKernel(gpytorch.kernels.RBFKernel())\n",
    "    \n",
    "    def forward(self, x):\n",
    "        mean_x = self.mean_module(x)\n",
    "        covar_x = self.covar_module(x)\n",
    "        return gpytorch.distributions.MultivariateNormal(mean_x, covar_x)\n",
    "\n",
    "# initialize likelihood and model\n",
    "likelihood = gpytorch.likelihoods.GaussianLikelihood()\n",
    "model = ExactGPModel(train_x_tensor, train_y_tensor, likelihood)"
   ]
  },
  {
   "cell_type": "markdown",
   "metadata": {},
   "source": [
    "With the model now defined we train by writing our own training loop."
   ]
  },
  {
   "cell_type": "code",
   "execution_count": 14,
   "metadata": {},
   "outputs": [
    {
     "name": "stdout",
     "output_type": "stream",
     "text": [
      "Iter 50/1000 - Loss: 3921.836   lengthscale: 108.377   noise: 49.070\n",
      "Iter 100/1000 - Loss: 3533.376   lengthscale: 112.385   noise: 53.624\n",
      "Iter 150/1000 - Loss: 3246.411   lengthscale: 115.696   noise: 57.880\n",
      "Iter 200/1000 - Loss: 3022.206   lengthscale: 118.461   noise: 61.901\n",
      "Iter 250/1000 - Loss: 2839.062   lengthscale: 120.789   noise: 65.730\n",
      "Iter 300/1000 - Loss: 2687.003   lengthscale: 122.754   noise: 69.397\n",
      "Iter 350/1000 - Loss: 2556.977   lengthscale: 124.423   noise: 72.923\n",
      "Iter 400/1000 - Loss: 2445.304   lengthscale: 125.840   noise: 76.327\n",
      "Iter 450/1000 - Loss: 2345.929   lengthscale: 127.057   noise: 79.622\n",
      "Iter 500/1000 - Loss: 2258.313   lengthscale: 128.095   noise: 82.821\n",
      "Iter 550/1000 - Loss: 2179.409   lengthscale: 128.985   noise: 85.933\n",
      "Iter 600/1000 - Loss: 2107.438   lengthscale: 129.750   noise: 88.968\n",
      "Iter 650/1000 - Loss: 2041.828   lengthscale: 130.384   noise: 91.930\n",
      "Iter 700/1000 - Loss: 1981.439   lengthscale: 130.918   noise: 94.824\n",
      "Iter 750/1000 - Loss: 1926.511   lengthscale: 131.375   noise: 97.654\n",
      "Iter 800/1000 - Loss: 1874.569   lengthscale: 131.770   noise: 100.428\n",
      "Iter 850/1000 - Loss: 1826.660   lengthscale: 132.104   noise: 103.150\n",
      "Iter 900/1000 - Loss: 1781.671   lengthscale: 132.388   noise: 105.824\n",
      "Iter 950/1000 - Loss: 1739.590   lengthscale: 132.622   noise: 108.454\n",
      "Iter 1000/1000 - Loss: 1699.972   lengthscale: 132.816   noise: 111.042\n"
     ]
    }
   ],
   "source": [
    "# Run a thousand training iterations\n",
    "training_iter = 1000\n",
    "\n",
    "# Set model and likelihood to \"train\" (prior construction) mode\n",
    "model.train()\n",
    "likelihood.train()\n",
    "\n",
    "hypers = {\n",
    "    'likelihood.noise_covar.raw_noise': torch.tensor(44.2736),\n",
    "    'mean_module.constant': torch.tensor(75.2567),\n",
    "    'covar_module.raw_outputscale': torch.tensor(44.4823),\n",
    "    'covar_module.base_kernel.raw_lengthscale': torch.tensor(103.6995),\n",
    "}\n",
    "\n",
    "model.initialize(**hypers)\n",
    "\n",
    "# Use the adam optimizer\n",
    "optimizer = torch.optim.Adam([\n",
    "    {'params': model.parameters()},  # Includes GaussianLikelihood parameters\n",
    "], lr=0.1)\n",
    "\n",
    "# \"Loss\" for GPs - the marginal log likelihood\n",
    "mll = gpytorch.mlls.ExactMarginalLogLikelihood(likelihood, model)\n",
    "\n",
    "for itr in range(training_iter):\n",
    "    # Zero gradients from previous iteration\n",
    "    optimizer.zero_grad()\n",
    "    # Output from model\n",
    "    output = model(train_x_tensor)\n",
    "    # Calc loss and backprop gradients\n",
    "    loss = -mll(output, train_y_tensor)\n",
    "    loss.backward()\n",
    "    if (itr + 1) % 50 == 0:\n",
    "        print('Iter %d/%d - Loss: %.3f   lengthscale: %.3f   noise: %.3f' % (\n",
    "            itr + 1, training_iter, loss.item(),\n",
    "            model.covar_module.base_kernel.lengthscale.item(),\n",
    "            model.likelihood.noise.item()\n",
    "        ))\n",
    "    optimizer.step()"
   ]
  },
  {
   "cell_type": "markdown",
   "metadata": {},
   "source": [
    "Now that we have a trained model let's take a look at our hyperparameter values"
   ]
  },
  {
   "cell_type": "code",
   "execution_count": 15,
   "metadata": {},
   "outputs": [
    {
     "name": "stdout",
     "output_type": "stream",
     "text": [
      "Parameter name: likelihood.noise_covar.raw_noise           value = 111.09373474121094\n",
      "Parameter name: mean_module.constant                       value = 144.70777893066406\n",
      "Parameter name: covar_module.raw_outputscale               value = 102.5657730102539\n",
      "Parameter name: covar_module.base_kernel.raw_lengthscale   value = 132.8197021484375\n"
     ]
    }
   ],
   "source": [
    "for param_name, param in model.named_parameters():\n",
    "    print(f'Parameter name: {param_name:42} value = {param.item()}')"
   ]
  },
  {
   "cell_type": "markdown",
   "metadata": {},
   "source": [
    "Now we'll use our validation set to compute regression metrics to see how well we did.\n",
    "\n",
    "First we make our validation points tensor:"
   ]
  },
  {
   "cell_type": "code",
   "execution_count": 16,
   "metadata": {},
   "outputs": [
    {
     "data": {
      "text/plain": [
       "tensor([[3185,  358,    5,  ...,  230,  156, 7700],\n",
       "        [3252,  238,    9,  ...,  248,  182, 7202],\n",
       "        [3132,  148,   16,  ...,  236,  120, 7756],\n",
       "        ...,\n",
       "        [3147,  149,   22,  ...,  233,  108, 7756],\n",
       "        [3306,  340,   21,  ...,  205,  170, 7202],\n",
       "        [3409,   62,   15,  ...,  208,  106, 8776]])"
      ]
     },
     "execution_count": 16,
     "metadata": {},
     "output_type": "execute_result"
    }
   ],
   "source": [
    "val_x_tensor = torch.tensor(X_val.to_numpy())\n",
    "val_x_tensor"
   ]
  },
  {
   "cell_type": "markdown",
   "metadata": {},
   "source": [
    "Now we set our model and likelihood to prediction mode and do constant time predictions with `gpytorch.settings.fast_pred_var()`"
   ]
  },
  {
   "cell_type": "code",
   "execution_count": 17,
   "metadata": {},
   "outputs": [],
   "source": [
    "# Get into evaluation (predictive posterior) mode\n",
    "model.eval()\n",
    "likelihood.eval()\n",
    "\n",
    "# Make validation predictions by feeding model through likelihood\n",
    "with torch.no_grad(), gpytorch.settings.fast_pred_var():\n",
    "    validation_preds = likelihood(model(val_x_tensor))"
   ]
  },
  {
   "cell_type": "markdown",
   "metadata": {},
   "source": [
    "The likelihood returns us a MultivariateNormal object that represents the posterior predictive distribution of the validation points."
   ]
  },
  {
   "cell_type": "code",
   "execution_count": 18,
   "metadata": {},
   "outputs": [
    {
     "data": {
      "text/plain": [
       "MultivariateNormal(loc: torch.Size([744]))"
      ]
     },
     "execution_count": 18,
     "metadata": {},
     "output_type": "execute_result"
    }
   ],
   "source": [
    "validation_preds"
   ]
  },
  {
   "cell_type": "markdown",
   "metadata": {},
   "source": [
    "We use the mean of this distribution as our predictions."
   ]
  },
  {
   "cell_type": "code",
   "execution_count": 19,
   "metadata": {
    "collapsed": true,
    "jupyter": {
     "outputs_hidden": true
    }
   },
   "outputs": [
    {
     "data": {
      "text/plain": [
       "tensor([ 717.5021, 1789.9164, 2585.5229, 3599.7715, 4656.9980, 1305.0979,\n",
       "        1028.6925, 3062.2036, 1164.3169, 2996.1514, 2889.7136,  877.8260,\n",
       "        3163.8708, 2972.9346,  642.3585, 3085.5698, 1005.1996,  613.7988,\n",
       "        3411.9556, 1439.0464, 1502.6738, 1618.6664,  310.5034, 1512.4285,\n",
       "        2296.1899, 1792.6855, 1144.6295, 2098.0798, 1690.4912, 1062.9127,\n",
       "        1130.6365, 4143.9692, 2149.9348,  813.8082, 1910.8828, 3624.2971,\n",
       "        1610.8384,  685.6976, 1150.2189, 1658.9412, 1282.7362,  910.6946,\n",
       "        1078.7549, 3121.1594, 1824.6714, 2572.5872, 2493.7512,  855.3162,\n",
       "        2440.5925, 1264.7688, 1191.6970, 1587.5911, 5006.6060, 1234.1038,\n",
       "        2290.5728, 1228.5254,  712.1539, 1411.8784, 1884.2002, 1809.8217,\n",
       "        2094.0547,  723.2311,  934.2905,  364.3827, 1362.7466, 1703.1594,\n",
       "        2333.0759, 2809.0322,  800.8282, 3428.0227, 1096.4874, 1543.6919,\n",
       "        3616.0393, 4160.1084, 2704.2129,  703.2686,  906.6664, 1567.8239,\n",
       "        4823.0703, 2027.8823, 2784.6646, 1912.4919, 1155.2145, 3578.0540,\n",
       "        1058.5930, 1340.3488, 1306.1737, 1822.8386, 1491.2097, 3516.1970,\n",
       "        2960.4026,  952.5094, 3673.2097, 1460.4633, 1493.0127, 2726.9060,\n",
       "        2577.4290, 1731.3284, 1150.1094, 2988.5278,  790.7771, 3659.3484,\n",
       "        3964.0750,  447.7568,  814.5718,  860.1270, 2186.3142,  974.2334,\n",
       "        1418.5602, 1301.8782, 1091.2302,  997.5087, 1317.8342, 2409.0833,\n",
       "        1867.4318,  394.0132, 1311.0562, 2125.7527,  647.6964,  718.9766,\n",
       "        1210.8667, 2428.0845, 5392.8799, 1363.5171, 1821.0100, 2120.3389,\n",
       "        2308.4375, 1276.0884, 2093.9985,  698.6901, 1677.0624,  717.9432,\n",
       "        2247.1968, 4164.9326, 1097.1786, 3243.3176, 3685.5823, 1510.0259,\n",
       "        4244.4077, 2099.3042, 1148.2881, 1466.5570, 4626.3896, 3332.3115,\n",
       "        1009.6316,  959.6035, 1393.5856, 1266.6869, 1427.0906, 1807.9973,\n",
       "        1905.9965, 4446.7852, 2940.0447, 4359.6304, 1406.1105, 1203.0203,\n",
       "         967.5532, 1962.8826, 2753.4167, 1341.1429,  567.4658, 1095.7235,\n",
       "        3426.8499, 1021.4983, 2832.6848, 1181.1599, 3116.6389, 4066.9451,\n",
       "        1029.2531, 2128.3665, 1720.3425, 3745.4895, 1398.6588, 1131.9591,\n",
       "        3507.1897, 1027.2413, 2387.4102, 1870.0701,  842.1198, 1314.6334,\n",
       "         849.6769, 3501.2375, 1357.2192, 3411.8701,  867.9467, 1264.6598,\n",
       "        1202.7051, 2546.9424, 1016.0369, 1105.5476, 1630.2559, 1091.9210,\n",
       "         650.9166, 1085.0442, 2367.2991, 1728.3132, 3503.5496, 1967.9991,\n",
       "         908.2625,  760.2292, 2201.5010, 3188.5845, 1439.1327, 2778.8608,\n",
       "        2439.2310, 1621.4856, 1415.6519, 1237.1875,  829.8770,  579.5408,\n",
       "        2767.9451, 1343.6179, 1675.9487, 1373.5554,  845.1340, 1360.4417,\n",
       "        1320.5571, 1402.4122,  761.9280, 1588.6780, 1090.0769, 2485.9807,\n",
       "        1381.4404, 2234.7312, 1033.8906,  739.1536, 1836.1467,  741.2087,\n",
       "         861.1779, 2632.4944,  438.2454,  909.5239, 3497.3718, 1221.4316,\n",
       "        1310.6877, 1915.7727, 1135.1528,  868.7039, 1608.1899, 3387.9131,\n",
       "        4296.0054, 2508.3406, 3723.2209, 3956.0974, 1015.8528, 3309.9622,\n",
       "        3233.5059,  632.0990,  885.2118, 1108.4952, 2910.3899, 1159.9077,\n",
       "        2251.6343, 1282.8174, 1923.2727, 5378.9209, 3780.2871, 1285.7947,\n",
       "        2667.7227, 2794.4602, 3731.0259, 4278.7642, 2543.7761, 1636.3507,\n",
       "        1477.8823,  976.7507, 1230.2441, 3006.0354, 1414.8857, 4607.4019,\n",
       "        1113.5535,  328.8911, 2380.8459, 4143.4717, 1397.6488,  835.3488,\n",
       "        1614.2408, 1172.7693, 2145.6946, 1191.9282, 3450.1899, 1715.4988,\n",
       "        2091.8042, 3697.2361, 5312.7505,  788.4900, 4078.9331, 3869.7395,\n",
       "        2828.5237, 1257.0723, 3038.7341, 1275.5693, 2654.8088, 1873.2380,\n",
       "        1449.5432, 1696.3291,  830.4675, 1283.1653, 1363.7278, 1679.0140,\n",
       "        3078.0876, 1169.9904,  944.4728, 1723.0417, 2350.1396, 1535.8892,\n",
       "        1259.9805, 1344.5796,  684.2944, 3867.6814,  480.6960,  847.7585,\n",
       "         868.8475, 1255.4451, 1269.8474, 3210.2649, 1487.9105, 2757.6404,\n",
       "        5515.9297, 3330.5801, 1467.4550, 1990.0664, 2520.6865,  916.7230,\n",
       "        1324.0974, 2116.8376, 1215.6077,  937.8008, 2514.6887,  351.3870,\n",
       "         271.6225, 2407.4856,  847.1972, 2765.6946, 2125.5059, 1029.2980,\n",
       "         605.4268, 3761.7427,  519.9043, 1253.6199, 4504.9375, 4824.9497,\n",
       "        1309.7770, 1821.3894,  930.5491, 1368.2374, 1830.9009, 1340.3961,\n",
       "        2122.7578,  616.2773, 3781.0381, 1095.7000, 1572.6853,  546.1099,\n",
       "        3176.5471,  951.7739, 2847.7200, 3668.1978, 1665.5209, 2707.8262,\n",
       "        1009.5426,  371.7067, 1394.5410, 1196.3890, 1156.2769, 1017.1111,\n",
       "        1976.4150, 4488.7471, 4781.0933, 2325.2368, 1928.6309, 2192.5483,\n",
       "        1360.2589, 3620.6770, 1246.9249, 2882.2405, 3032.0825, 4516.0127,\n",
       "        1394.9103, 1804.3745, 1176.0784,  807.0051, 4291.0684, 4442.5259,\n",
       "        1394.4928, 2471.1409, 1541.6909,  857.2794, 2151.0496,  818.4849,\n",
       "        1354.4124, 1289.9211, 1386.9148, 1806.8103,  765.8888, 2805.0144,\n",
       "        1191.5585, 4185.6172, 3803.4739, 2413.1150, 3275.3845, 1606.4712,\n",
       "        1179.6172,  679.4938, 3585.5759, 1486.8264, 3707.9070, 1605.7048,\n",
       "        3306.8386, 2702.9912, 1069.0801, 2433.8254, 1394.4481,  265.7727,\n",
       "        2347.4795, 3222.4153, 1681.6273,  772.7227, 5051.9487, 1776.4421,\n",
       "        4668.7656,  904.3087, 3403.3633, 1031.8809, 1465.0471, 3574.4656,\n",
       "        1328.4617, 4198.6851, 1391.4092, 3434.5999, 1675.2112, 2028.3459,\n",
       "        1299.3340, 2604.3853,  778.8272, 2904.9089,  968.0981, 3306.8718,\n",
       "        1482.5813,  962.9980, 3340.9666, 4286.2373, 1210.6995, 3767.0249,\n",
       "        1058.8936, 1290.8363, 3630.4961,  803.9945, 1157.7347, 1179.8646,\n",
       "        2234.2434, 1517.3124, 1024.8773, 4394.2705, 3834.1733, 1297.7351,\n",
       "        1149.6510, 1300.4475,  560.5899,  855.9811, 2073.6755, 1610.7603,\n",
       "        3111.9739, 3956.0305, 5128.6465, 3670.3811, 2851.9968, 1176.3201,\n",
       "        1510.6891, 3699.6741, 1835.0488, 2655.6875, 1089.4812, 2358.1887,\n",
       "        4027.5012, 4700.7642, 1038.8741, 1305.6689, 3804.3518, 3538.6409,\n",
       "        3506.8750, 1436.9927, 1144.1296, 1105.0653, 1179.2756, 1186.5410,\n",
       "         967.4685, 2281.1379, 2620.9358, 2730.7305, 1314.1768, 1099.5488,\n",
       "         724.6753, 4916.1221,  623.9420, 2435.7996, 1128.9991, 1685.9333,\n",
       "         668.8766, 1739.1450, 1166.1274, 1114.3324, 1110.7699, 1767.9727,\n",
       "        1215.4587, 3914.3882,  785.0444, 1699.8934,  534.7803, 2340.6772,\n",
       "        4448.7456, 5375.6699,  576.1172, 2254.1150, 3311.0569, 3676.7637,\n",
       "         948.3853, 2375.9016,  817.7756, 3585.6594, 4043.4539, 1697.3341,\n",
       "        2499.2686,  415.7017, 1180.7368,  825.0728,  972.6354, 3389.0588,\n",
       "        1285.0687, 1290.8567, 2687.7239, 1216.2864, 1288.1050, 1449.6997,\n",
       "        3819.9290, 1354.3864, 2541.2092, 3552.8140, 1096.0220, 1828.6013,\n",
       "        1407.4974, 3344.4973, 3998.6990, 4528.3433, 1400.4795, 3164.4663,\n",
       "         965.4340, 3483.3301, 3010.4456, 1220.2913, 1221.2336, 1066.0271,\n",
       "        1957.7960, 4135.1128, 1706.0847, 4135.5737, 1350.7384, 4057.5974,\n",
       "        1419.6495, 3576.2795, 1891.9673, 4391.2588, 3210.9622,  564.4515,\n",
       "         705.7745, 2309.0493, 2257.5435, 5431.5498, 1075.7867, 1159.6199,\n",
       "        1129.9943, 1996.1721, 1150.1332, 2293.9001,  946.4666, 2611.6663,\n",
       "         739.8620, 3339.6555, 3095.7964,  876.0059, 1048.2134, 4364.9971,\n",
       "        1795.9182, 2734.7087, 1360.5258, 1317.7765, 1391.1919,  964.8726,\n",
       "         481.2372, 4406.1763, 3806.2263, 3320.2410, 5531.9326,  856.8031,\n",
       "        3461.4050, 1841.5361, 1285.8931,  729.5429, 1001.5704, 1274.0281,\n",
       "        1059.6776, 1181.4973, 3986.9297,  822.9619,  752.3604, 1683.1489,\n",
       "        1795.2578, 2205.5752, 2168.1560, 4202.5044, 1247.5613, 1966.9036,\n",
       "        1013.0764, 2409.5061,  973.2424, 3279.0129,  564.9137, 3866.4851,\n",
       "        1841.3855,  862.0674, 3834.9924, 1985.4342, 1333.9436, 1547.9354,\n",
       "         934.9115, 1022.9008, 3658.3921, 3987.5664,  428.0398, 4583.7783,\n",
       "        2069.7222,  575.5956, 3165.2073,  993.9102,  988.3771, 1518.7308,\n",
       "        2027.7000, 4630.4014, 1604.1729, 1036.5730, 1336.2515, 2828.4944,\n",
       "        1478.4082, 2175.9707,  991.5315, 1677.9746,  537.9966,  752.8369,\n",
       "        3074.5547, 3540.4126, 1194.7300,  439.5271, 3289.9402, 1256.9233,\n",
       "        2884.1489, 1817.2078, 3023.7830,  469.0845, 1290.7649,  681.9662,\n",
       "        2011.0229,  913.5295, 1358.3719, 1297.4351, 2729.1426, 2099.2905,\n",
       "        1046.7272, 1854.4561,  561.1829, 1398.1040, 1177.1147, 2274.4287,\n",
       "        2924.2205, 2668.5544, 3043.5168, 1242.1826, 1188.3378, 2389.2058,\n",
       "        1278.7366, 1047.5510, 4602.8594, 2234.1741,  565.4479, 4586.8496,\n",
       "        4503.3613, 1408.6522, 1613.0554, 1159.1587, 2557.1804, 2597.8604,\n",
       "        5205.2646, 1121.4735, 3198.6592, 5428.1465, 4753.1631, 1199.8125,\n",
       "        1045.5626, 1092.4053, 1386.1241, 1173.7349, 2064.2795, 2038.3777,\n",
       "        4799.3506,  999.9484,  740.3868, 1390.7943,  830.1226, 2888.6902,\n",
       "        1232.3782, 1343.0188, 2549.9727, 2487.4065, 1116.5228, 1326.5408,\n",
       "        1679.9520, 4155.6221, 1667.6887, 1855.3641, 1440.1509, 2397.6650,\n",
       "         906.1008, 1477.7327, 1486.4214,  399.4255, 2088.3782, 2152.7063,\n",
       "         912.1721, 2183.2869, 1709.0333, 2615.8364,  913.3274, 1896.9023,\n",
       "        3401.8074, 1661.1604, 1157.7944,  894.5806, 1836.5403,  535.3849,\n",
       "         441.9326, 1886.5920, 1297.9473, 2806.2703, 1952.7889, 2507.5605])"
      ]
     },
     "execution_count": 19,
     "metadata": {},
     "output_type": "execute_result"
    }
   ],
   "source": [
    "validation_preds.mean"
   ]
  },
  {
   "cell_type": "markdown",
   "metadata": {},
   "source": [
    "So we use the mean to plug into our regression metrics to see how we did"
   ]
  },
  {
   "cell_type": "code",
   "execution_count": 20,
   "metadata": {},
   "outputs": [
    {
     "name": "stdout",
     "output_type": "stream",
     "text": [
      "--- Regression Metrics ---\n",
      "\n",
      "MSE : 190343.28697847307\n",
      "\n",
      "RMSE: 436.28349381849534\n",
      "\n",
      "MAE : 285.5033655474263\n",
      "\n",
      "R^2  : 0.8991097737010715\n"
     ]
    }
   ],
   "source": [
    "# Use the posterior mean as our prediction\n",
    "print(\"--- Regression Metrics ---\")\n",
    "mse = mean_squared_error(y_val, validation_preds.mean)\n",
    "mae = mean_absolute_error(y_val, validation_preds.mean)\n",
    "rmse = np.sqrt(mse)\n",
    "r2 = r2_score(y_val, validation_preds.mean)\n",
    "\n",
    "print(f\"\\nMSE : {mse}\")\n",
    "print(f\"\\nRMSE: {rmse}\")\n",
    "print(f\"\\nMAE : {mae}\")\n",
    "print(f\"\\nR^2  : {r2}\")"
   ]
  },
  {
   "cell_type": "markdown",
   "metadata": {},
   "source": [
    "---\n",
    "### Make real predictions and pipe output to file"
   ]
  },
  {
   "cell_type": "code",
   "execution_count": 32,
   "metadata": {},
   "outputs": [
    {
     "data": {
      "text/plain": [
       "tensor([[3229,   98,   22,  ...,  204,   72, 7757],\n",
       "        [3324,   92,   18,  ...,  209,   86, 8776],\n",
       "        [3433,  162,   11,  ...,  243,  143, 8771],\n",
       "        ...,\n",
       "        [3446,  274,    4,  ...,  240,  169, 8703],\n",
       "        [3372,  281,   11,  ...,  241,  192, 7755],\n",
       "        [3132,  129,    9,  ...,  235,  130, 7756]])"
      ]
     },
     "execution_count": 32,
     "metadata": {},
     "output_type": "execute_result"
    }
   ],
   "source": [
    "test_x_tensor = torch.tensor(test_x.to_numpy())\n",
    "test_x_tensor"
   ]
  },
  {
   "cell_type": "code",
   "execution_count": 34,
   "metadata": {},
   "outputs": [],
   "source": [
    "with torch.no_grad(), gpytorch.settings.fast_pred_var():\n",
    "    test_preds = likelihood(model(test_x_tensor))\n",
    "    submission_output = pd.DataFrame(data={'ID': test_x.index, 'Horizontal_Distance_To_Fire_Points': test_preds.mean})\n",
    "    submission_output.to_csv(os.path.join(os.getcwd(),'simple_gp_predictions.csv'), index=False)\n",
    "submission_output"
   ]
  },
  {
   "cell_type": "code",
   "execution_count": null,
   "metadata": {},
   "outputs": [],
   "source": []
  }
 ],
 "metadata": {
  "kernelspec": {
   "display_name": "Python 3",
   "language": "python",
   "name": "python3"
  },
  "language_info": {
   "codemirror_mode": {
    "name": "ipython",
    "version": 3
   },
   "file_extension": ".py",
   "mimetype": "text/x-python",
   "name": "python",
   "nbconvert_exporter": "python",
   "pygments_lexer": "ipython3",
   "version": "3.8.1"
  }
 },
 "nbformat": 4,
 "nbformat_minor": 4
}
